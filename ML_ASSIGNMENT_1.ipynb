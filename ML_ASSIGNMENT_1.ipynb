{
  "nbformat": 4,
  "nbformat_minor": 0,
  "metadata": {
    "colab": {
      "provenance": [],
      "authorship_tag": "ABX9TyMcegOx3w9k5KzdZj+uazol",
      "include_colab_link": true
    },
    "kernelspec": {
      "name": "python3",
      "display_name": "Python 3"
    },
    "language_info": {
      "name": "python"
    }
  },
  "cells": [
    {
      "cell_type": "markdown",
      "metadata": {
        "id": "view-in-github",
        "colab_type": "text"
      },
      "source": [
        "<a href=\"https://colab.research.google.com/github/SHWETHA1308/ML_Internship/blob/main/ML_ASSIGNMENT_1.ipynb\" target=\"_parent\"><img src=\"https://colab.research.google.com/assets/colab-badge.svg\" alt=\"Open In Colab\"/></a>"
      ]
    },
    {
      "cell_type": "markdown",
      "source": [
        "### Lists:\n",
        "1. Write a Python program to sum all the items in a list."
      ],
      "metadata": {
        "id": "YvTyK6XF91Y5"
      }
    },
    {
      "cell_type": "code",
      "source": [
        "def sum_list(items):\n",
        "    return sum(items)\n",
        "\n",
        "# Example usage:\n",
        "items = [1, 2, 3, 4, 5]\n",
        "print(sum_list(items))\n"
      ],
      "metadata": {
        "colab": {
          "base_uri": "https://localhost:8080/"
        },
        "id": "lHSpMoMq94fK",
        "outputId": "3c9c50bd-aae2-4f8f-9f46-6b79caa9fd4c"
      },
      "execution_count": 1,
      "outputs": [
        {
          "output_type": "stream",
          "name": "stdout",
          "text": [
            "15\n"
          ]
        }
      ]
    },
    {
      "cell_type": "markdown",
      "source": [
        "2. Create a function that takes a list of numbers as input and returns a new list with only the even numbers from the original list."
      ],
      "metadata": {
        "id": "pOFrMpCf-MDW"
      }
    },
    {
      "cell_type": "code",
      "source": [
        "def even_numbers(lst):\n",
        "    return [num for num in lst if num % 2 == 0]\n",
        "\n",
        "# Example usage:\n",
        "numbers = [1, 2, 3, 4, 5, 6]\n",
        "print(even_numbers(numbers))\n"
      ],
      "metadata": {
        "colab": {
          "base_uri": "https://localhost:8080/"
        },
        "id": "W56H7ZJB-RDH",
        "outputId": "fb89703e-e3c1-4ce4-a0d6-1b634ca6280a"
      },
      "execution_count": 2,
      "outputs": [
        {
          "output_type": "stream",
          "name": "stdout",
          "text": [
            "[2, 4, 6]\n"
          ]
        }
      ]
    },
    {
      "cell_type": "markdown",
      "source": [
        "3. Write a Python program to remove duplicates from a list."
      ],
      "metadata": {
        "id": "KUz8lOUO-cyN"
      }
    },
    {
      "cell_type": "code",
      "source": [
        "def remove_duplicates(lst):\n",
        "    return list(set(lst))\n",
        "\n",
        "# Example usage:\n",
        "items = [1, 2, 2, 3, 4, 4, 5]\n",
        "print(remove_duplicates(items))\n"
      ],
      "metadata": {
        "colab": {
          "base_uri": "https://localhost:8080/"
        },
        "id": "oBRRoxmb-4uy",
        "outputId": "bee754b6-378f-40db-eb5a-f929c111313c"
      },
      "execution_count": 3,
      "outputs": [
        {
          "output_type": "stream",
          "name": "stdout",
          "text": [
            "[1, 2, 3, 4, 5]\n"
          ]
        }
      ]
    },
    {
      "cell_type": "markdown",
      "source": [
        "4. Implement a function to find the second largest number in a list."
      ],
      "metadata": {
        "id": "Vvu6-Y7b_N8L"
      }
    },
    {
      "cell_type": "code",
      "source": [
        "def second_largest(numbers):\n",
        "    unique_numbers = list(set(numbers))\n",
        "    unique_numbers.sort()\n",
        "    return unique_numbers[-2]\n",
        "\n",
        "# Example usage:\n",
        "numbers = [1, 2, 3, 4, 5]\n",
        "print(second_largest(numbers))\n"
      ],
      "metadata": {
        "colab": {
          "base_uri": "https://localhost:8080/"
        },
        "id": "qIu9CEwZ_Pwe",
        "outputId": "a8b67d45-83ba-4a35-d0ff-850da2bc8572"
      },
      "execution_count": 4,
      "outputs": [
        {
          "output_type": "stream",
          "name": "stdout",
          "text": [
            "4\n"
          ]
        }
      ]
    },
    {
      "cell_type": "markdown",
      "source": [
        "5. Write a Python program to shuffle and print a list."
      ],
      "metadata": {
        "id": "9UEXEm9U_a6p"
      }
    },
    {
      "cell_type": "code",
      "source": [
        "import random\n",
        "\n",
        "def shuffle_list(lst):\n",
        "    random.shuffle(lst)\n",
        "    return lst\n",
        "\n",
        "# Example usage:\n",
        "items = [1, 2, 3, 4, 5]\n",
        "print(shuffle_list(items))\n"
      ],
      "metadata": {
        "colab": {
          "base_uri": "https://localhost:8080/"
        },
        "id": "6u7GhZA8_ZcO",
        "outputId": "8ea8cba2-f87a-496f-f802-20cdb8973254"
      },
      "execution_count": 5,
      "outputs": [
        {
          "output_type": "stream",
          "name": "stdout",
          "text": [
            "[3, 1, 2, 5, 4]\n"
          ]
        }
      ]
    },
    {
      "cell_type": "markdown",
      "source": [
        "### Tuples:\n",
        "1. Write a Python program to reverse a tuple."
      ],
      "metadata": {
        "id": "l2_nGpkL_mrF"
      }
    },
    {
      "cell_type": "code",
      "source": [
        "def reverse_tuple(tpl):\n",
        "    return tpl[::-1]\n",
        "\n",
        "# Example usage:\n",
        "tpl = (1, 2, 3, 4, 5)\n",
        "print(reverse_tuple(tpl))\n"
      ],
      "metadata": {
        "colab": {
          "base_uri": "https://localhost:8080/"
        },
        "id": "C7yy3L0d_oLF",
        "outputId": "50ed3b88-9e21-4b17-bcb5-2883d230d4b1"
      },
      "execution_count": 6,
      "outputs": [
        {
          "output_type": "stream",
          "name": "stdout",
          "text": [
            "(5, 4, 3, 2, 1)\n"
          ]
        }
      ]
    },
    {
      "cell_type": "markdown",
      "source": [
        "2. Create a function that takes two tuples as input and returns a new tuple containing elements that are common in both tuples."
      ],
      "metadata": {
        "id": "2kHoJc_l_wFo"
      }
    },
    {
      "cell_type": "code",
      "source": [
        "def common_elements(tpl1, tpl2):\n",
        "    return tuple(set(tpl1) & set(tpl2))\n",
        "\n",
        "# Example usage:\n",
        "tpl1 = (1, 2, 3)\n",
        "tpl2 = (2, 3, 4)\n",
        "print(common_elements(tpl1, tpl2))\n"
      ],
      "metadata": {
        "colab": {
          "base_uri": "https://localhost:8080/"
        },
        "id": "hogWicxd_xbe",
        "outputId": "5b7b8bec-e858-415c-e693-ce84b242bf36"
      },
      "execution_count": 7,
      "outputs": [
        {
          "output_type": "stream",
          "name": "stdout",
          "text": [
            "(2, 3)\n"
          ]
        }
      ]
    },
    {
      "cell_type": "markdown",
      "source": [
        "3. Write a Python program to convert a tuple to a string."
      ],
      "metadata": {
        "id": "ZDHb9XlL_312"
      }
    },
    {
      "cell_type": "code",
      "source": [
        "def tuple_to_string(tpl):\n",
        "    return ''.join(map(str, tpl))\n",
        "\n",
        "# Example usage:\n",
        "tpl = ('a', 'b', 'c')\n",
        "print(tuple_to_string(tpl))\n"
      ],
      "metadata": {
        "colab": {
          "base_uri": "https://localhost:8080/"
        },
        "id": "dwhNBub3_89J",
        "outputId": "1a843d7e-0b2d-454b-e5b9-7beca48b4e4c"
      },
      "execution_count": 8,
      "outputs": [
        {
          "output_type": "stream",
          "name": "stdout",
          "text": [
            "abc\n"
          ]
        }
      ]
    },
    {
      "cell_type": "markdown",
      "source": [
        "4. Implement a function to find the index of an element in a tuple."
      ],
      "metadata": {
        "id": "_gmEv_SHAFw1"
      }
    },
    {
      "cell_type": "code",
      "source": [
        "def find_index(tpl, element):\n",
        "    return tpl.index(element)\n",
        "\n",
        "# Example usage:\n",
        "tpl = (1, 2, 3, 4, 5)\n",
        "print(find_index(tpl, 3))\n"
      ],
      "metadata": {
        "colab": {
          "base_uri": "https://localhost:8080/"
        },
        "id": "OPWcSMHIAGeo",
        "outputId": "6d23baaf-a5ec-4d27-b2ef-94a249124d3f"
      },
      "execution_count": 9,
      "outputs": [
        {
          "output_type": "stream",
          "name": "stdout",
          "text": [
            "2\n"
          ]
        }
      ]
    },
    {
      "cell_type": "markdown",
      "source": [
        "5. Create a program to concatenate two tuples.\n"
      ],
      "metadata": {
        "id": "YGehxyaXAMRH"
      }
    },
    {
      "cell_type": "code",
      "source": [
        "def concatenate_tuples(tpl1, tpl2):\n",
        "    return tpl1 + tpl2\n",
        "\n",
        "# Example usage:\n",
        "tpl1 = (1, 2, 3)\n",
        "tpl2 = (4, 5, 6)\n",
        "print(concatenate_tuples(tpl1, tpl2))\n"
      ],
      "metadata": {
        "colab": {
          "base_uri": "https://localhost:8080/"
        },
        "id": "77pitgO3AQ2l",
        "outputId": "d3e7916f-2204-4336-ad3e-f8a8b5b07a2a"
      },
      "execution_count": 10,
      "outputs": [
        {
          "output_type": "stream",
          "name": "stdout",
          "text": [
            "(1, 2, 3, 4, 5, 6)\n"
          ]
        }
      ]
    },
    {
      "cell_type": "markdown",
      "source": [
        "### Dictionaries:\n",
        "1. Write a Python script to sort (ascending and descending) a dictionary by its values."
      ],
      "metadata": {
        "id": "WAIXEcbNAV7z"
      }
    },
    {
      "cell_type": "code",
      "source": [
        "def sort_dict_by_values(d, ascending=True):\n",
        "    return dict(sorted(d.items(), key=lambda item: item[1], reverse=not ascending))\n",
        "\n",
        "# Example usage:\n",
        "d = {'a': 3, 'b': 1, 'c': 2}\n",
        "print(sort_dict_by_values(d))  # Ascending\n",
        "print(sort_dict_by_values(d, ascending=False))  # Descending\n"
      ],
      "metadata": {
        "colab": {
          "base_uri": "https://localhost:8080/"
        },
        "id": "7ZbqQ1CHAgj5",
        "outputId": "75833f75-c01f-4d53-8a86-e9172f3c00c4"
      },
      "execution_count": 11,
      "outputs": [
        {
          "output_type": "stream",
          "name": "stdout",
          "text": [
            "{'b': 1, 'c': 2, 'a': 3}\n",
            "{'a': 3, 'c': 2, 'b': 1}\n"
          ]
        }
      ]
    },
    {
      "cell_type": "markdown",
      "source": [
        "2. Create a function that takes a dictionary as input and returns the sum of all its values."
      ],
      "metadata": {
        "id": "DzGEsGQiAq8o"
      }
    },
    {
      "cell_type": "code",
      "source": [
        "def sum_dict_values(d):\n",
        "    return sum(d.values())\n",
        "\n",
        "# Example usage:\n",
        "d = {'a': 3, 'b': 1, 'c': 2}\n",
        "print(sum_dict_values(d))\n"
      ],
      "metadata": {
        "colab": {
          "base_uri": "https://localhost:8080/"
        },
        "id": "wzpNJ_chAsMg",
        "outputId": "4470de9d-edde-450a-c5f8-600619c52422"
      },
      "execution_count": 12,
      "outputs": [
        {
          "output_type": "stream",
          "name": "stdout",
          "text": [
            "6\n"
          ]
        }
      ]
    },
    {
      "cell_type": "markdown",
      "source": [
        "3. Write a Python program to combine two dictionary adding values for common keys."
      ],
      "metadata": {
        "id": "EVMlHizhBLP8"
      }
    },
    {
      "cell_type": "code",
      "source": [
        "def combine_dicts(d1, d2):\n",
        "    combined = d1.copy()\n",
        "    for k, v in d2.items():\n",
        "        combined[k] = combined.get(k, 0) + v\n",
        "    return combined\n",
        "\n",
        "# Example usage:\n",
        "d1 = {'a': 1, 'b': 2}\n",
        "d2 = {'b': 3, 'c': 4}\n",
        "print(combine_dicts(d1, d2))\n"
      ],
      "metadata": {
        "colab": {
          "base_uri": "https://localhost:8080/"
        },
        "id": "jfPSTocrBN2t",
        "outputId": "00e5cfaa-20b7-4685-a683-2baa1478b727"
      },
      "execution_count": 13,
      "outputs": [
        {
          "output_type": "stream",
          "name": "stdout",
          "text": [
            "{'a': 1, 'b': 5, 'c': 4}\n"
          ]
        }
      ]
    },
    {
      "cell_type": "markdown",
      "source": [
        "4. Implement a function to check if a given key already exists in a dictionary."
      ],
      "metadata": {
        "id": "c9EWtUm5Bjus"
      }
    },
    {
      "cell_type": "code",
      "source": [
        "def key_exists(d, key):\n",
        "    return key in d\n",
        "\n",
        "# Example usage:\n",
        "d = {'a': 1, 'b': 2}\n",
        "print(key_exists(d, 'a'))\n",
        "print(key_exists(d, 'c'))\n"
      ],
      "metadata": {
        "colab": {
          "base_uri": "https://localhost:8080/"
        },
        "id": "itcsO_yQBkYU",
        "outputId": "ec3ada02-78dc-439e-8851-6e743c4bd143"
      },
      "execution_count": 14,
      "outputs": [
        {
          "output_type": "stream",
          "name": "stdout",
          "text": [
            "True\n",
            "False\n"
          ]
        }
      ]
    },
    {
      "cell_type": "markdown",
      "source": [
        "5. Create a program to iterate over dictionaries using loops and comprehensions, printing key-value pairs."
      ],
      "metadata": {
        "id": "OeUi2RGKBxRA"
      }
    },
    {
      "cell_type": "code",
      "source": [
        "def iterate_dict(d):\n",
        "    for k, v in d.items():\n",
        "        print(f'{k}: {v}')\n",
        "\n",
        "    print(\"Using comprehension:\")\n",
        "    [print(f'{k}: {v}') for k, v in d.items()]\n",
        "\n",
        "# Example usage:\n",
        "d = {'a': 1, 'b': 2, 'c': 3}\n",
        "iterate_dict(d)\n"
      ],
      "metadata": {
        "colab": {
          "base_uri": "https://localhost:8080/"
        },
        "id": "sz1zw4o3ByWv",
        "outputId": "202ecb34-70cc-46da-e439-6b8b2f0ebac7"
      },
      "execution_count": 15,
      "outputs": [
        {
          "output_type": "stream",
          "name": "stdout",
          "text": [
            "a: 1\n",
            "b: 2\n",
            "c: 3\n",
            "Using comprehension:\n",
            "a: 1\n",
            "b: 2\n",
            "c: 3\n"
          ]
        }
      ]
    },
    {
      "cell_type": "markdown",
      "source": [
        "\n",
        "### Sets:\n",
        "1. Write a Python program to create a set."
      ],
      "metadata": {
        "id": "S0rek9WmCO-D"
      }
    },
    {
      "cell_type": "code",
      "source": [
        "def create_set(elements):\n",
        "    return set(elements)\n",
        "\n",
        "# Example usage:\n",
        "elements = [1, 2, 3, 4, 5]\n",
        "print(create_set(elements))\n"
      ],
      "metadata": {
        "colab": {
          "base_uri": "https://localhost:8080/"
        },
        "id": "hRNw_cE4CRga",
        "outputId": "06990379-4748-4621-cdb3-1e3238f0abc7"
      },
      "execution_count": 16,
      "outputs": [
        {
          "output_type": "stream",
          "name": "stdout",
          "text": [
            "{1, 2, 3, 4, 5}\n"
          ]
        }
      ]
    },
    {
      "cell_type": "markdown",
      "source": [
        "2. Create a function that takes two sets as input and returns a new set containing elements that are common in both sets."
      ],
      "metadata": {
        "id": "RpSjLS42CjHQ"
      }
    },
    {
      "cell_type": "code",
      "source": [
        "def common_elements(set1, set2):\n",
        "    return set1 & set2\n",
        "\n",
        "# Example usage:\n",
        "set1 = {1, 2, 3}\n",
        "set2 = {2, 3, 4}\n",
        "print(common_elements(set1, set2))\n"
      ],
      "metadata": {
        "colab": {
          "base_uri": "https://localhost:8080/"
        },
        "id": "aXTxsYKmCkl_",
        "outputId": "b911dacc-acce-45bd-d085-dc81a6a87b87"
      },
      "execution_count": 17,
      "outputs": [
        {
          "output_type": "stream",
          "name": "stdout",
          "text": [
            "{2, 3}\n"
          ]
        }
      ]
    },
    {
      "cell_type": "markdown",
      "source": [
        "3. Write a Python program to find the difference between two sets."
      ],
      "metadata": {
        "id": "0cxoDMz8Ct7l"
      }
    },
    {
      "cell_type": "code",
      "source": [
        "def difference_sets(set1, set2):\n",
        "    return set1 - set2\n",
        "\n",
        "# Example usage:\n",
        "set1 = {1, 2, 3}\n",
        "set2 = {2, 3, 4}\n",
        "print(difference_sets(set1, set2))\n"
      ],
      "metadata": {
        "colab": {
          "base_uri": "https://localhost:8080/"
        },
        "id": "Xuv8JFFaCvQI",
        "outputId": "e29f4f1e-b0b2-4f0c-f1ea-b0c52cc772c8"
      },
      "execution_count": 18,
      "outputs": [
        {
          "output_type": "stream",
          "name": "stdout",
          "text": [
            "{1}\n"
          ]
        }
      ]
    },
    {
      "cell_type": "markdown",
      "source": [
        "4. Implement a function to check if a set is a subset of another set."
      ],
      "metadata": {
        "id": "WuK7d9dDC3zy"
      }
    },
    {
      "cell_type": "code",
      "source": [
        "def is_subset(set1, set2):\n",
        "    return set1.issubset(set2)\n",
        "\n",
        "# Example usage:\n",
        "set1 = {1, 2}\n",
        "set2 = {1, 2, 3, 4}\n",
        "print(is_subset(set1, set2))\n"
      ],
      "metadata": {
        "colab": {
          "base_uri": "https://localhost:8080/"
        },
        "id": "5v_jZgY2C5NC",
        "outputId": "33ddeccf-e6a0-4d9f-9d89-d92d0613bceb"
      },
      "execution_count": 19,
      "outputs": [
        {
          "output_type": "stream",
          "name": "stdout",
          "text": [
            "True\n"
          ]
        }
      ]
    },
    {
      "cell_type": "markdown",
      "source": [
        "5. Create a program to perform set operations like union, intersection, difference, and symmetric difference..provide program and outout for all the question"
      ],
      "metadata": {
        "id": "JmFfYxj_C9pa"
      }
    },
    {
      "cell_type": "code",
      "source": [
        "def set_operations(set1, set2):\n",
        "    return {\n",
        "        'union': set1 | set2,\n",
        "        'intersection': set1 & set2,\n",
        "        'difference': set1 - set2,\n",
        "        'symmetric_difference': set1 ^ set2\n",
        "    }\n",
        "\n",
        "# Example usage:\n",
        "set1 = {1, 2, 3}\n",
        "set2 = {2, 3, 4}\n",
        "operations = set_operations(set1, set2)\n",
        "for op, result in operations.items():\n",
        "    print(f'{op}: {result}')\n"
      ],
      "metadata": {
        "colab": {
          "base_uri": "https://localhost:8080/"
        },
        "id": "zv8vKaULDCt0",
        "outputId": "c8ba0392-ca13-41cb-ffaf-40e3f5e8ad75"
      },
      "execution_count": 20,
      "outputs": [
        {
          "output_type": "stream",
          "name": "stdout",
          "text": [
            "union: {1, 2, 3, 4}\n",
            "intersection: {2, 3}\n",
            "difference: {1}\n",
            "symmetric_difference: {1, 4}\n"
          ]
        }
      ]
    },
    {
      "cell_type": "code",
      "source": [
        "from google.colab import drive\n",
        "drive.mount('/content/drive')"
      ],
      "metadata": {
        "colab": {
          "base_uri": "https://localhost:8080/"
        },
        "id": "iT6feh5zDJI5",
        "outputId": "67656686-cd60-4f67-c524-ac654d7923b2"
      },
      "execution_count": 22,
      "outputs": [
        {
          "output_type": "stream",
          "name": "stdout",
          "text": [
            "Drive already mounted at /content/drive; to attempt to forcibly remount, call drive.mount(\"/content/drive\", force_remount=True).\n"
          ]
        }
      ]
    }
  ]
}